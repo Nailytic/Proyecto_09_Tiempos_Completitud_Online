{
 "cells": [
  {
   "cell_type": "markdown",
   "id": "6ee425b9",
   "metadata": {},
   "source": [
    "# 📘 Proyecto 09: Tiempos y Completitud en Formación Online"
   ]
  },
  {
   "cell_type": "markdown",
   "id": "aa2a5e75",
   "metadata": {},
   "source": [
    "Este notebook acompaña el análisis de diferencias entre duración estimada y real en módulos de cursos online."
   ]
  },
  {
   "cell_type": "markdown",
   "id": "cc3c6802",
   "metadata": {},
   "source": [
    "## Variables clave\n",
    "- Tipo de contenido\n",
    "- Completitud (%)\n",
    "- Modalidad del curso"
   ]
  },
  {
   "cell_type": "markdown",
   "id": "b7fe526f",
   "metadata": {},
   "source": [
    "## Visualización\n",
    "Boxplot de desviación por tipo de contenido."
   ]
  },
  {
   "cell_type": "markdown",
   "id": "56a06a94",
   "metadata": {},
   "source": [
    "## Conclusión\n",
    "Este análisis permite detectar cuellos de botella o sobreestimaciones de tiempo por tipo de recurso formativo."
   ]
  }
 ],
 "metadata": {
  "kernelspec": {
   "display_name": "Python 3",
   "language": "python",
   "name": "python3"
  },
  "language_info": {
   "name": "python",
   "version": "3.9"
  }
 },
 "nbformat": 4,
 "nbformat_minor": 5
}
